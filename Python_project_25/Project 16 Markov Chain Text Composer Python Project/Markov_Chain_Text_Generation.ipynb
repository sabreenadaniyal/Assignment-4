{
  "nbformat": 4,
  "nbformat_minor": 0,
  "metadata": {
    "colab": {
      "provenance": []
    },
    "kernelspec": {
      "name": "python3",
      "display_name": "Python 3"
    },
    "language_info": {
      "name": "python"
    }
  },
  "cells": [
    {
      "cell_type": "code",
      "source": [
        "import random\n",
        "import string\n",
        "\n",
        "# Step 1: Preprocess the text 🌐\n",
        "def preprocess_text(text):\n",
        "    # Remove punctuation and convert to lowercase 🔤❌\n",
        "    text = text.lower()  # Convert to lowercase 🔄\n",
        "    text = ''.join([char if char not in string.punctuation else ' ' for char in text])  # Remove punctuation 🚫\n",
        "    return text\n",
        "\n",
        "# Step 2: Create the Markov Chain (with bigrams) 🔗\n",
        "def build_markov_chain(text):\n",
        "    # Split the text into words 📚\n",
        "    words = text.split()\n",
        "\n",
        "    # Dictionary to store the Markov Chain 🗂️\n",
        "    markov_chain = {}\n",
        "\n",
        "    # Create bigrams (pairs of consecutive words) 🔄📝\n",
        "    for i in range(len(words) - 1):\n",
        "        current_word = words[i]\n",
        "        next_word = words[i + 1]\n",
        "\n",
        "        # If the current word is already in the chain, add the next word to its list 📑\n",
        "        if current_word not in markov_chain:\n",
        "            markov_chain[current_word] = []\n",
        "        markov_chain[current_word].append(next_word)\n",
        "\n",
        "    return markov_chain\n",
        "\n",
        "# Step 3: Generate new text ✨\n",
        "def generate_text(markov_chain, length=50):\n",
        "    # Start with a random word 🧐\n",
        "    current_word = random.choice(list(markov_chain.keys()))\n",
        "\n",
        "    generated_words = [current_word]\n",
        "\n",
        "    # Generate words one by one using the Markov Chain 🧩\n",
        "    for _ in range(length - 1):\n",
        "        next_words = markov_chain.get(current_word, [])\n",
        "        if not next_words:\n",
        "            break  # Stop generating if no next words available ⛔\n",
        "        next_word = random.choice(next_words)  # Randomly pick the next word 🎲\n",
        "        generated_words.append(next_word)\n",
        "        current_word = next_word  # Move to the next word 🔄\n",
        "\n",
        "    return ' '.join(generated_words)  # Return the generated text 📜\n",
        "\n",
        "# Example Usage 🖥️\n",
        "if __name__ == \"__main__\":\n",
        "    text = \"\"\"This is a simple example of Markov Chain text generation. It uses bigrams to predict the next word in the sequence.\"\"\"  # Example text\n",
        "\n",
        "    # Step 1: Preprocess the text 🌐\n",
        "    processed_text = preprocess_text(text)\n",
        "\n",
        "    # Step 2: Build the Markov Chain 🔗\n",
        "    markov_chain = build_markov_chain(processed_text)\n",
        "\n",
        "    # Step 3: Generate new text ✨\n",
        "    generated_text = generate_text(markov_chain, length=15)  # Generate 15 words 📝\n",
        "\n",
        "    # Output the generated text with icons 📢💬\n",
        "    print(f\"🎉 Generated Text:\\n{generated_text} 📝✨\")\n"
      ],
      "metadata": {
        "colab": {
          "base_uri": "https://localhost:8080/"
        },
        "id": "ZmnVXhGq5WDc",
        "outputId": "54f02830-fb50-4b0d-8a8a-d55b82d81f7a"
      },
      "execution_count": 11,
      "outputs": [
        {
          "output_type": "stream",
          "name": "stdout",
          "text": [
            "🎉 Generated Text:\n",
            "uses bigrams to predict the sequence 📝✨\n"
          ]
        }
      ]
    }
  ]
}