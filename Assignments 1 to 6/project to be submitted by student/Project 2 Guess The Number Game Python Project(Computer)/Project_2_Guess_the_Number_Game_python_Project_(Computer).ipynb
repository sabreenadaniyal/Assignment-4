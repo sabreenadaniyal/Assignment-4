{
  "nbformat": 4,
  "nbformat_minor": 0,
  "metadata": {
    "colab": {
      "provenance": []
    },
    "kernelspec": {
      "name": "python3",
      "display_name": "Python 3"
    },
    "language_info": {
      "name": "python"
    }
  },
  "cells": [
    {
      "cell_type": "markdown",
      "source": [
        "**Project 2: GUESS THE NUMBER GAME PYTHON PROJECT (COMPUTER)**\n"
      ],
      "metadata": {
        "id": "tnOzu9ulSwgV"
      }
    },
    {
      "cell_type": "code",
      "source": [
        "import random\n",
        "\n",
        "# Computer picks a random number between 1 and 10\n",
        "secret_number = random.randint(1, 10)\n",
        "guesses_left = 6\n",
        "\n",
        "print(\"🎲 Welcome to the Number Guessing Game! 🎲\")\n",
        "print(\"🤖 I'm thinking of a number between 1 and 10.\")\n",
        "\n",
        "# Main game loop\n",
        "while guesses_left > 0:\n",
        "    print(f\"\\nYou have {guesses_left} guesses left.\")\n",
        "\n",
        "    try:\n",
        "        guess = int(input(\"🔢 Take a guess: \"))\n",
        "    except ValueError:\n",
        "        print(\"⚠️ Invalid input: Please enter a number.\")\n",
        "        continue  # Skip this loop iteration\n",
        "\n",
        "    guesses_left -= 1  # Deduct a guess only for valid inputs\n",
        "\n",
        "    # Check if the guess is correct\n",
        "    if guess < secret_number:\n",
        "        print(\"⬆️ Too low! Try a higher number.\")\n",
        "    elif guess > secret_number:\n",
        "        print(\"⬇️ Too high! Try a lower number.\")\n",
        "    else:\n",
        "        print(f\"🏆 Congratulations! You guessed it in {6 - guesses_left} attempts! 🎉\")\n",
        "        break  # Exit loop if correct guess\n",
        "\n",
        "# If the user runs out of guesses\n",
        "if guesses_left == 0 and guess != secret_number:\n",
        "    print(f\"❌ Game over! The correct number was {secret_number}. Better luck next time! 🎭\")\n"
      ],
      "metadata": {
        "colab": {
          "base_uri": "https://localhost:8080/"
        },
        "id": "nPV-NJBej-Q8",
        "outputId": "dce3c73a-172b-4ff9-f226-18afb8fd975c"
      },
      "execution_count": null,
      "outputs": [
        {
          "output_type": "stream",
          "name": "stdout",
          "text": [
            "🎲 Welcome to the Number Guessing Game! 🎲\n",
            "🤖 I'm thinking of a number between 1 and 10.\n",
            "\n",
            "You have 6 guesses left.\n",
            "🔢 Take a guess: 5\n",
            "⬆️ Too low! Try a higher number.\n",
            "\n",
            "You have 5 guesses left.\n",
            "🔢 Take a guess: 9\n",
            "⬇️ Too high! Try a lower number.\n",
            "\n",
            "You have 4 guesses left.\n",
            "🔢 Take a guess: 8\n",
            "⬇️ Too high! Try a lower number.\n",
            "\n",
            "You have 3 guesses left.\n",
            "🔢 Take a guess: 5\n",
            "⬆️ Too low! Try a higher number.\n",
            "\n",
            "You have 2 guesses left.\n",
            "🔢 Take a guess: 6\n",
            "🏆 Congratulations! You guessed it in 5 attempts! 🎉\n"
          ]
        }
      ]
    }
  ]
}