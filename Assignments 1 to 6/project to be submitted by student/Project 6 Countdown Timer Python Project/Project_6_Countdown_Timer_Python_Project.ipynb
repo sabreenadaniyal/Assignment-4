{
  "cells": [
    {
      "cell_type": "markdown",
      "metadata": {
        "id": "6uZP4Z6vtvUh"
      },
      "source": [
        "**Project 6: COUNTDOWN TIMER PYTHON PROJECT**"
      ]
    },
    {
      "cell_type": "code",
      "execution_count": 29,
      "metadata": {
        "colab": {
          "base_uri": "https://localhost:8080/"
        },
        "id": "yjIBo-cjt1JZ",
        "outputId": "203eba6e-d9ce-409d-88f2-9fc21adb40bc"
      },
      "outputs": [
        {
          "name": "stdout",
          "output_type": "stream",
          "text": [
            "⏲️ Enter time in seconds for countdown: 5\n",
            "⏳ 00:01\n",
            "⏰ 00:00 \n",
            "⏳ Time's up!\n",
            "\u0007\n"
          ]
        }
      ],
      "source": [
        "import time\n",
        "import sys\n",
        "\n",
        "def countdown_timer(seconds):\n",
        "    while seconds > 0:\n",
        "        mins, secs = divmod(seconds, 60)\n",
        "        time_format = f'\\r⏳ {mins:02d}:{secs:02d}'  # Overwrites the same line\n",
        "        sys.stdout.write(time_format)\n",
        "        sys.stdout.flush()\n",
        "        time.sleep(1)\n",
        "        seconds -= 1\n",
        "\n",
        "    print(\"\\n⏰ 00:00 \\n⏳ Time's up!\")\n",
        "    print('\\a')  # Beep sound (might not work in some terminals)\n",
        "\n",
        "# User input with error handling\n",
        "try:\n",
        "    total_seconds = int(input(\"⏲️ Enter time in seconds for countdown: \"))\n",
        "    if total_seconds > 0:\n",
        "        countdown_timer(total_seconds)\n",
        "    else:\n",
        "        print(\"⚠️ Please enter a positive number!\")\n",
        "except ValueError:\n",
        "    print(\"❌ Invalid input! Please enter a number.\")\n"
      ]
    }
  ],
  "metadata": {
    "colab": {
      "provenance": []
    },
    "kernelspec": {
      "display_name": "Python 3",
      "name": "python3"
    },
    "language_info": {
      "name": "python"
    }
  },
  "nbformat": 4,
  "nbformat_minor": 0
}
