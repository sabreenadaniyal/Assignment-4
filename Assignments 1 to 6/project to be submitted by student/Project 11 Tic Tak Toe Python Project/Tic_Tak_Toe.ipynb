{
  "nbformat": 4,
  "nbformat_minor": 0,
  "metadata": {
    "colab": {
      "provenance": []
    },
    "kernelspec": {
      "name": "python3",
      "display_name": "Python 3"
    },
    "language_info": {
      "name": "python"
    }
  },
  "cells": [
    {
      "cell_type": "code",
      "execution_count": null,
      "metadata": {
        "colab": {
          "base_uri": "https://localhost:8080/"
        },
        "id": "rCm9CcWhbUt8",
        "outputId": "f7b9ebd6-7fed-49cf-f6fc-9f349fcaf32a"
      },
      "outputs": [
        {
          "output_type": "stream",
          "name": "stdout",
          "text": [
            "🎮 Welcome to Tic-Tac-Toe!\n",
            "Player X vs Player O — Let's play!\n",
            "🎮 New Game: Tic-Tac-Toe!\n",
            "  0   1   2\n",
            "0 |   |   |   |\n",
            "1 |   |   |   |\n",
            "2 |   |   |   |\n",
            "X's turn — Enter row (0-2): 0\n",
            "X's turn — Enter column (0-2): 0\n",
            "  0   1   2\n",
            "0 | X |   |   |\n",
            "1 |   |   |   |\n",
            "2 |   |   |   |\n",
            "O's turn — Enter row (0-2): 1\n",
            "O's turn — Enter column (0-2): \n",
            "⚠️ Please enter valid numbers.\n",
            "O's turn — Enter row (0-2): 1\n",
            "O's turn — Enter column (0-2): 1\n",
            "  0   1   2\n",
            "0 | X |   |   |\n",
            "1 |   | O |   |\n",
            "2 |   |   |   |\n",
            "X's turn — Enter row (0-2): 0\n",
            "X's turn — Enter column (0-2): 0\n",
            "❌ Cell already taken! Try again.\n"
          ]
        }
      ],
      "source": [
        "import time\n",
        "\n",
        "def print_board(board):\n",
        "    print(\"  0   1   2\")\n",
        "    for i, row in enumerate(board):\n",
        "        print(f\"{i} | \" + \" | \".join(row) + \" |\")\n",
        "\n",
        "def check_win(board, player):\n",
        "    # Rows and columns\n",
        "    for i in range(3):\n",
        "        if all(cell == player for cell in board[i]) or all(board[j][i] == player for j in range(3)):\n",
        "            return True\n",
        "    # Diagonals\n",
        "    if all(board[i][i] == player for i in range(3)) or all(board[i][2 - i] == player for i in range(3)):\n",
        "        return True\n",
        "    return False\n",
        "\n",
        "def is_full(board):\n",
        "    return all(cell != ' ' for row in board for cell in row)\n",
        "\n",
        "def get_move(player):\n",
        "    while True:\n",
        "        try:\n",
        "            row = int(input(f\"{player}'s turn — Enter row (0-2): \"))\n",
        "            col = int(input(f\"{player}'s turn — Enter column (0-2): \"))\n",
        "            if row in range(3) and col in range(3):\n",
        "                return row, col\n",
        "            else:\n",
        "                print(\"⚠️ Invalid input. Enter numbers 0, 1, or 2.\")\n",
        "        except ValueError:\n",
        "            print(\"⚠️ Please enter valid numbers.\")\n",
        "\n",
        "def play_game():\n",
        "    print(\"🎮 Welcome to Tic-Tac-Toe!\")\n",
        "    print(\"Player X vs Player O — Let's play!\")\n",
        "\n",
        "    while True:\n",
        "        board = [[' ' for _ in range(3)] for _ in range(3)]\n",
        "        current_player = 'X'\n",
        "        print(\"🎮 New Game: Tic-Tac-Toe!\")\n",
        "        print_board(board)\n",
        "\n",
        "        while True:\n",
        "            row, col = get_move(current_player)\n",
        "\n",
        "            if board[row][col] != ' ':\n",
        "                print(\"❌ Cell already taken! Try again.\")\n",
        "                continue\n",
        "\n",
        "            board[row][col] = current_player\n",
        "            print_board(board)\n",
        "\n",
        "            if check_win(board, current_player):\n",
        "                print(f\"🎉 {current_player} wins!\")\n",
        "                break\n",
        "\n",
        "            if is_full(board):\n",
        "                print(\"😐 It's a tie!\")\n",
        "                break\n",
        "\n",
        "            current_player = 'O' if current_player == 'X' else 'X'\n",
        "            time.sleep(0.5)\n",
        "\n",
        "        again = input(\"🔁 Play again? (y/n): \").lower()\n",
        "        if again != 'y':\n",
        "            print(\"👋 Thanks for playing!\")\n",
        "            break\n",
        "\n",
        "play_game()\n"
      ]
    }
  ]
}