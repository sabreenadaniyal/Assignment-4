{
  "cells": [
    {
      "cell_type": "markdown",
      "metadata": {
        "id": "4-F4UtDhlWFl"
      },
      "source": [
        "Project 3: GUESS THE NUMBER GAME PYTHON PROJECT (USER)"
      ]
    },
    {
      "cell_type": "code",
      "execution_count": 2,
      "metadata": {
        "colab": {
          "base_uri": "https://localhost:8080/"
        },
        "id": "fhAnNzh5mgh2",
        "outputId": "50519760-a1fd-48dc-9672-89a9ddda6fc5"
      },
      "outputs": [
        {
          "name": "stdout",
          "output_type": "stream",
          "text": [
            "✨Guess the number between 1 to 10\n",
            "Enter your guess number:8\n",
            "🔁To High Number!\n",
            "Enter your guess number:5\n",
            "🔁To High Number!\n",
            "Enter your guess number:4\n",
            "🔁To High Number!\n",
            "Enter your guess number:2\n",
            "🎇🎊Congratulation You Got iT Right!🎉🎇\n"
          ]
        }
      ],
      "source": [
        "import random\n",
        "\n",
        "print(\"✨Guess the number between 1 to 10\")\n",
        "\n",
        "#generate random number\n",
        "number = random.randint(1, 10)\n",
        "\n",
        "while True:\n",
        "  guess = int(input(\"Enter your guess number:\"))\n",
        "  if guess < number:\n",
        "    print(\"🔀To Low Number!\")\n",
        "  elif guess > number:\n",
        "    print(\"🔁To High Number!\")\n",
        "  else:\n",
        "    print(\"🎇🎊Congratulation You Got iT Right!🎉🎇\")\n",
        "    break"
      ]
    }
  ],
  "metadata": {
    "colab": {
      "provenance": []
    },
    "kernelspec": {
      "display_name": "Python 3",
      "name": "python3"
    },
    "language_info": {
      "name": "python"
    }
  },
  "nbformat": 4,
  "nbformat_minor": 0
}
