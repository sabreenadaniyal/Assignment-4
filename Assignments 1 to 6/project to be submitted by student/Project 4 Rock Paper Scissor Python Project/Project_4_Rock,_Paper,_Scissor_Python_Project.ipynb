{
  "cells": [
    {
      "cell_type": "markdown",
      "metadata": {
        "id": "QBUfaz1QrPsv"
      },
      "source": [
        "**Project 4: ROCK, PAPER, SCISSOR PYTHON PROJECT**"
      ]
    },
    {
      "cell_type": "code",
      "execution_count": 19,
      "metadata": {
        "colab": {
          "base_uri": "https://localhost:8080/"
        },
        "id": "qacok2jAradZ",
        "outputId": "5e59f857-fbda-4fa2-8a8f-6de59e4c36ef"
      },
      "outputs": [
        {
          "name": "stdout",
          "output_type": "stream",
          "text": [
            "🎆🎊Welocme To Rock, Paper & Scissor Game!!🎉✨\n",
            "Enter ⛰ rock, 📋 paper, or ✂ scissors: paper\n",
            "Computer Wins!! ⛰ rock beats paper.\n"
          ]
        }
      ],
      "source": [
        "# Rock, Paper, Scissor Game\n",
        "\n",
        "import random\n",
        "\n",
        "print(\"🎆🎊Welocme To Rock, Paper & Scissor Game!!🎉✨\")\n",
        "#game choices\n",
        "choices = [\"⛰ rock\", \"📋 paper\", \"✂ scissors\"]\n",
        "\n",
        "#player choice\n",
        "player_choice = input(\"Enter ⛰ rock, 📋 paper, or ✂ scissors: \").lower()\n",
        "\n",
        "#computer choice\n",
        "computer_choice = random.choice(choices)\n",
        "\n",
        "#winner decision\n",
        "if player_choice == computer_choice:\n",
        "    print(f\"Both choices are same 🧍‍♂️{player_choice}. It's a Tie!!\")\n",
        "\n",
        "elif player_choice == \"rock\" and computer_choice == \"scissors\":\n",
        "  print(f\"Player Wins! 🧍‍♂️{ player_choice} beats 💻{computer_choice}.\")\n",
        "\n",
        "elif player_choice == \"paper\" and computer_choice == \"rock\":\n",
        "  print(f\"Playes Wins! 🧍‍♂️{player_choice} beats 💻{computer_choice}.\")\n",
        "\n",
        "elif player_choice == \"scissor\" and computer_choice == \"paper\":\n",
        "  print(f\"Playes Wins! 🧍‍♂️{player_choice} beats 💻{computer_choice}.\")\n",
        "\n",
        "else:\n",
        "  print(f\"Computer Wins!! {computer_choice} beats {player_choice}.\")"
      ]
    }
  ],
  "metadata": {
    "colab": {
      "provenance": []
    },
    "kernelspec": {
      "display_name": "Python 3",
      "name": "python3"
    },
    "language_info": {
      "name": "python"
    }
  },
  "nbformat": 4,
  "nbformat_minor": 0
}
