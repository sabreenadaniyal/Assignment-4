{
  "cells": [
    {
      "cell_type": "markdown",
      "metadata": {
        "id": "4mgLZMV6m4Xl"
      },
      "source": [
        "**Project 5: HANGMAN PYTHON PROJECT**"
      ]
    },
    {
      "cell_type": "code",
      "execution_count": 3,
      "metadata": {
        "colab": {
          "base_uri": "https://localhost:8080/"
        },
        "id": "NsSky3W3nB70",
        "outputId": "5de10d9a-c280-4c77-9451-8a18d163e284"
      },
      "outputs": [
        {
          "name": "stdout",
          "output_type": "stream",
          "text": [
            "Welcome to Hangman! 🎭\n",
            "\n",
            "Word: _ _ _ _ _\n",
            "Attempts left: 6 🎉\n",
            "Guess a letter: colab\n",
            "✅ Good guess!\n",
            "\n",
            "Word: _ _ _ _ _\n",
            "Attempts left: 6 🎉\n",
            "Guess a letter: learning\n",
            "❌ Wrong guess! 5 attempts left.\n",
            "\n",
            "Word: _ _ _ _ _\n",
            "Attempts left: 5 😃\n",
            "Guess a letter: python\n",
            "❌ Wrong guess! 4 attempts left.\n",
            "\n",
            "Word: _ _ _ _ _\n",
            "Attempts left: 4 😬\n",
            "Guess a letter: machine\n",
            "❌ Wrong guess! 3 attempts left.\n",
            "\n",
            "Word: _ _ _ _ _\n",
            "Attempts left: 3 😕\n",
            "Guess a letter: hanfgman\n",
            "❌ Wrong guess! 2 attempts left.\n",
            "\n",
            "Word: _ _ _ _ _\n",
            "Attempts left: 2 😟\n",
            "Guess a letter: hangman\n",
            "❌ Wrong guess! 1 attempts left.\n",
            "\n",
            "Word: _ _ _ _ _\n",
            "Attempts left: 1 😨\n",
            "Guess a letter: machine\n",
            "⚠️ You already guessed that letter!\n",
            "\n",
            "Word: _ _ _ _ _\n",
            "Attempts left: 1 😨\n",
            "Guess a letter: colab\n",
            "⚠️ You already guessed that letter!\n",
            "\n",
            "Word: _ _ _ _ _\n",
            "Attempts left: 1 😨\n",
            "Guess a letter: learning\n",
            "⚠️ You already guessed that letter!\n",
            "\n",
            "Word: _ _ _ _ _\n",
            "Attempts left: 1 😨\n",
            "Guess a letter: word\n",
            "❌ Wrong guess! 0 attempts left.\n",
            "\n",
            "💀 Game over! The word was: colab\n"
          ]
        }
      ],
      "source": [
        "import random\n",
        "\n",
        "def choose_word():\n",
        "    words = [\"python\", \"colab\", \"machine\", \"learning\", \"hangman\"]\n",
        "    return random.choice(words)\n",
        "\n",
        "def display(word, guessed_letters):\n",
        "    return \" \".join([letter if letter in guessed_letters else \"_\" for letter in word])\n",
        "\n",
        "def hangman():\n",
        "    word = choose_word()\n",
        "    guessed_letters = set()\n",
        "    attempts = 6\n",
        "\n",
        "    hangman_icons = [\n",
        "        \"😵\", \"😨\", \"😟\", \"😕\", \"😬\", \"😃\", \"🎉\"\n",
        "    ]\n",
        "\n",
        "    print(\"Welcome to Hangman! 🎭\")\n",
        "\n",
        "    while attempts > 0:\n",
        "        print(f\"\\nWord: {display(word, guessed_letters)}\")\n",
        "        print(f\"Attempts left: {attempts} {hangman_icons[attempts]}\")\n",
        "        guess = input(\"Guess a letter: \").lower()\n",
        "\n",
        "        if guess in guessed_letters:\n",
        "            print(\"⚠️ You already guessed that letter!\")\n",
        "        elif guess in word:\n",
        "            guessed_letters.add(guess)\n",
        "            print(\"✅ Good guess!\")\n",
        "        else:\n",
        "            guessed_letters.add(guess)\n",
        "            attempts -= 1\n",
        "            print(f\"❌ Wrong guess! {attempts} attempts left.\")\n",
        "\n",
        "        if all(letter in guessed_letters for letter in word):\n",
        "            print(f\"\\n🎉 Congratulations! You guessed the word: {word} 🎊\")\n",
        "            return\n",
        "\n",
        "    print(f\"\\n💀 Game over! The word was: {word}\")\n",
        "\n",
        "hangman()"
      ]
    }
  ],
  "metadata": {
    "colab": {
      "provenance": []
    },
    "kernelspec": {
      "display_name": "Python 3",
      "name": "python3"
    },
    "language_info": {
      "name": "python"
    }
  },
  "nbformat": 4,
  "nbformat_minor": 0
}
