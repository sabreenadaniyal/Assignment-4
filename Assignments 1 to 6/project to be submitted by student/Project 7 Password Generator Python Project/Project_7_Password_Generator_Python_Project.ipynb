{
  "cells": [
    {
      "cell_type": "markdown",
      "metadata": {
        "id": "b8hkCWfH6nOl"
      },
      "source": [
        "**Project 7: PASSWORD GENERATOR PYTHON PROJECT**"
      ]
    },
    {
      "cell_type": "code",
      "execution_count": 10,
      "metadata": {
        "colab": {
          "base_uri": "https://localhost:8080/"
        },
        "id": "dyrw1io364wR",
        "outputId": "98c7a16f-95ea-4f74-bc6b-30362fd6a379"
      },
      "outputs": [
        {
          "name": "stdout",
          "output_type": "stream",
          "text": [
            "🔑 Enter the length of your desired password: 2\n",
            "✅ Your Desired Generated Password: 🔒 }\\\n"
          ]
        }
      ],
      "source": [
        "import random\n",
        "import string\n",
        "\n",
        "def generated_password(length = 12):\n",
        "    characters = string.ascii_letters + string.digits + string.punctuation\n",
        "    password = \"\".join(random.choice(characters) for _ in range(length))\n",
        "    return password\n",
        "\n",
        "#users inputs\n",
        "length = int(input(\"🔑 Enter the length of your desired password: \"))\n",
        "\n",
        "password = generated_password(length)\n",
        "print(\"✅ Your Desired Generated Password: 🔒\", password)"
      ]
    }
  ],
  "metadata": {
    "colab": {
      "provenance": []
    },
    "kernelspec": {
      "display_name": "Python 3",
      "name": "python3"
    },
    "language_info": {
      "name": "python"
    }
  },
  "nbformat": 4,
  "nbformat_minor": 0
}
