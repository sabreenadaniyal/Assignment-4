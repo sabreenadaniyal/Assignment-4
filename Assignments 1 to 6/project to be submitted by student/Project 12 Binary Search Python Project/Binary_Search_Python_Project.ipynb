{
  "nbformat": 4,
  "nbformat_minor": 0,
  "metadata": {
    "colab": {
      "provenance": []
    },
    "kernelspec": {
      "name": "python3",
      "display_name": "Python 3"
    },
    "language_info": {
      "name": "python"
    }
  },
  "cells": [
    {
      "cell_type": "code",
      "source": [
        "def binary_search(arr, target):\n",
        "    \"\"\"🔍 Performs binary search on a sorted list.\"\"\"\n",
        "    low = 0  # 🔽 Start of the list\n",
        "    high = len(arr) - 1  # 🔼 End of the list\n",
        "\n",
        "    while low <= high:\n",
        "        mid = (low + high) // 2  # 🧠 Middle index\n",
        "        guess = arr[mid]  # 🔎 Middle value\n",
        "\n",
        "        print(f\"📍 Checking index {mid}, value {guess}\")\n",
        "\n",
        "        if guess == target:\n",
        "            return mid  # ✅ Found it!\n",
        "        elif guess < target:\n",
        "            low = mid + 1  # 🔜 Go right\n",
        "        else:\n",
        "            high = mid - 1  # 🔙 Go left\n",
        "\n",
        "    return -1  # ❌ Not found\n",
        "\n",
        "# 📋 Sorted list to search\n",
        "numbers = [1, 3, 5, 7, 9, 11, 13, 15, 17, 19]\n",
        "\n",
        "# 🧑‍💻 Ask user for a number to find\n",
        "try:\n",
        "    user_input = int(input(\"🔢 Enter a number to search: \"))\n",
        "    result = binary_search(numbers, user_input)\n",
        "\n",
        "    # 📣 Show result\n",
        "    if result != -1:\n",
        "        print(f\"✅ Found at index {result}\")\n",
        "    else:\n",
        "        print(\"❌ Not found in the list.\")\n",
        "except ValueError:\n",
        "    print(\"⚠️ Please enter a valid integer.\")\n"
      ],
      "metadata": {
        "colab": {
          "base_uri": "https://localhost:8080/"
        },
        "id": "hzcv5xkA7Uhx",
        "outputId": "016dad28-f19a-4367-a920-e3f8fe7879c8"
      },
      "execution_count": 3,
      "outputs": [
        {
          "output_type": "stream",
          "name": "stdout",
          "text": [
            "🔢 Enter a number to search: 11\n",
            "📍 Checking index 4, value 9\n",
            "📍 Checking index 7, value 15\n",
            "📍 Checking index 5, value 11\n",
            "✅ Found at index 5\n"
          ]
        }
      ]
    }
  ]
}