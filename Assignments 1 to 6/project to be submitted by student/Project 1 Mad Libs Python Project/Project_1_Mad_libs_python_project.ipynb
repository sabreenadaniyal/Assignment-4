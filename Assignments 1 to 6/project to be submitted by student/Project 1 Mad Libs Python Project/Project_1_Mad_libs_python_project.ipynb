{
  "cells": [
    {
      "cell_type": "markdown",
      "metadata": {
        "id": "zZf03ws98ljh"
      },
      "source": [
        "    **Project 1: MAD LIB PYTHON PROJECT**"
      ]
    },
    {
      "cell_type": "code",
      "execution_count": 3,
      "metadata": {
        "colab": {
          "base_uri": "https://localhost:8080/"
        },
        "id": "nYCbGjn88oqx",
        "outputId": "585008c6-745b-4242-ecca-907745229c4d"
      },
      "outputs": [
        {
          "name": "stdout",
          "output_type": "stream",
          "text": [
            "✨Welcome to Mad Libs! Fill in the blanks to complete the story..🤞\n",
            "👨‍🎤Enter a noun: raja\n",
            "🍦Enter an adjective: fun\n",
            "🏃‍♂️Enter a verb: dancing\n",
            "🌍Enter a place: karachi\n",
            "🐎Enter an animal: snake\n",
            "\n",
            "Here's your story! 🎉\n",
            "One day, a fun snake decided to dancing at the karachi. Everyone was surprised, especially the raja!😆\n"
          ]
        }
      ],
      "source": [
        "# Function to play Mad Libs\n",
        "def mad_libs():\n",
        "    print(\"✨Welcome to Mad Libs! Fill in the blanks to complete the story..🤞\")\n",
        "\n",
        "    # Asking user for inputs\n",
        "    noun = input(\"👨‍🎤Enter a noun: \")\n",
        "    adjective = input(\"🍦Enter an adjective: \")\n",
        "    verb = input(\"🏃‍♂️Enter a verb: \")\n",
        "    place = input(\"🌍Enter a place: \")\n",
        "    animal = input(\"🐎Enter an animal: \")\n",
        "\n",
        "    # Mad Libs story template\n",
        "    story = (f\"One day, a {adjective} {animal} decided to {verb} at the {place}. Everyone was surprised, especially the {noun}!😆\")\n",
        "\n",
        "    # Display the completed story\n",
        "    print(\"\\nHere's your story! 🎉\")\n",
        "    print(story)\n",
        "\n",
        "# Run the game\n",
        "mad_libs()"
      ]
    }
  ],
  "metadata": {
    "colab": {
      "provenance": []
    },
    "kernelspec": {
      "display_name": "Python 3",
      "name": "python3"
    },
    "language_info": {
      "name": "python"
    }
  },
  "nbformat": 4,
  "nbformat_minor": 0
}
